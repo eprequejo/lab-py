{
 "cells": [
  {
   "cell_type": "code",
   "execution_count": 124,
   "id": "533f647b",
   "metadata": {},
   "outputs": [],
   "source": [
    "# Tratamiento de datos\n",
    "# ==============================================================================\n",
    "import pandas as pd\n",
    "import numpy as np\n",
    "\n",
    "# Gráficos\n",
    "# ==============================================================================\n",
    "import matplotlib.pyplot as plt\n",
    "from matplotlib import style\n",
    "import seaborn as sns\n",
    "#from mlxtend.plotting import plot_decision_regions\n",
    "\n",
    "# Preprocesado y modelado\n",
    "# ==============================================================================\n",
    "from sklearn.svm import SVC\n",
    "from sklearn.model_selection import train_test_split\n",
    "from sklearn.model_selection import GridSearchCV\n",
    "from sklearn.metrics import accuracy_score\n",
    "from sklearn.metrics import classification_report # for model evaluation metrics\n",
    "\n",
    "# Configuración matplotlib\n",
    "# ==============================================================================\n",
    "plt.rcParams['image.cmap'] = \"bwr\"\n",
    "#plt.rcParams['figure.dpi'] = \"100\"\n",
    "plt.rcParams['savefig.bbox'] = \"tight\"\n",
    "style.use('ggplot') or plt.style.use('ggplot')\n",
    "\n",
    "# Configuración warnings\n",
    "# ==============================================================================\n",
    "import warnings\n",
    "warnings.filterwarnings('ignore')"
   ]
  },
  {
   "cell_type": "markdown",
   "id": "11a32b37",
   "metadata": {},
   "source": [
    "# Importacion del conjunto de datos"
   ]
  },
  {
   "cell_type": "code",
   "execution_count": 4,
   "id": "2f28b36d",
   "metadata": {},
   "outputs": [
    {
     "data": {
      "text/html": [
       "<div>\n",
       "<style scoped>\n",
       "    .dataframe tbody tr th:only-of-type {\n",
       "        vertical-align: middle;\n",
       "    }\n",
       "\n",
       "    .dataframe tbody tr th {\n",
       "        vertical-align: top;\n",
       "    }\n",
       "\n",
       "    .dataframe thead th {\n",
       "        text-align: right;\n",
       "    }\n",
       "</style>\n",
       "<table border=\"1\" class=\"dataframe\">\n",
       "  <thead>\n",
       "    <tr style=\"text-align: right;\">\n",
       "      <th></th>\n",
       "      <th>danceability</th>\n",
       "      <th>energy</th>\n",
       "      <th>key</th>\n",
       "      <th>loudness</th>\n",
       "      <th>mode</th>\n",
       "      <th>speechiness</th>\n",
       "      <th>acousticness</th>\n",
       "      <th>instrumentalness</th>\n",
       "      <th>liveness</th>\n",
       "      <th>valence</th>\n",
       "      <th>tempo</th>\n",
       "      <th>duration_ms</th>\n",
       "      <th>time_signature</th>\n",
       "      <th>liked</th>\n",
       "    </tr>\n",
       "  </thead>\n",
       "  <tbody>\n",
       "    <tr>\n",
       "      <th>0</th>\n",
       "      <td>0.803</td>\n",
       "      <td>0.6240</td>\n",
       "      <td>7</td>\n",
       "      <td>-6.764</td>\n",
       "      <td>0</td>\n",
       "      <td>0.0477</td>\n",
       "      <td>0.4510</td>\n",
       "      <td>0.000734</td>\n",
       "      <td>0.1000</td>\n",
       "      <td>0.6280</td>\n",
       "      <td>95.968</td>\n",
       "      <td>304524</td>\n",
       "      <td>4</td>\n",
       "      <td>0</td>\n",
       "    </tr>\n",
       "    <tr>\n",
       "      <th>1</th>\n",
       "      <td>0.762</td>\n",
       "      <td>0.7030</td>\n",
       "      <td>10</td>\n",
       "      <td>-7.951</td>\n",
       "      <td>0</td>\n",
       "      <td>0.3060</td>\n",
       "      <td>0.2060</td>\n",
       "      <td>0.000000</td>\n",
       "      <td>0.0912</td>\n",
       "      <td>0.5190</td>\n",
       "      <td>151.329</td>\n",
       "      <td>247178</td>\n",
       "      <td>4</td>\n",
       "      <td>1</td>\n",
       "    </tr>\n",
       "    <tr>\n",
       "      <th>2</th>\n",
       "      <td>0.261</td>\n",
       "      <td>0.0149</td>\n",
       "      <td>1</td>\n",
       "      <td>-27.528</td>\n",
       "      <td>1</td>\n",
       "      <td>0.0419</td>\n",
       "      <td>0.9920</td>\n",
       "      <td>0.897000</td>\n",
       "      <td>0.1020</td>\n",
       "      <td>0.0382</td>\n",
       "      <td>75.296</td>\n",
       "      <td>286987</td>\n",
       "      <td>4</td>\n",
       "      <td>0</td>\n",
       "    </tr>\n",
       "    <tr>\n",
       "      <th>3</th>\n",
       "      <td>0.722</td>\n",
       "      <td>0.7360</td>\n",
       "      <td>3</td>\n",
       "      <td>-6.994</td>\n",
       "      <td>0</td>\n",
       "      <td>0.0585</td>\n",
       "      <td>0.4310</td>\n",
       "      <td>0.000001</td>\n",
       "      <td>0.1230</td>\n",
       "      <td>0.5820</td>\n",
       "      <td>89.860</td>\n",
       "      <td>208920</td>\n",
       "      <td>4</td>\n",
       "      <td>1</td>\n",
       "    </tr>\n",
       "    <tr>\n",
       "      <th>4</th>\n",
       "      <td>0.787</td>\n",
       "      <td>0.5720</td>\n",
       "      <td>1</td>\n",
       "      <td>-7.516</td>\n",
       "      <td>1</td>\n",
       "      <td>0.2220</td>\n",
       "      <td>0.1450</td>\n",
       "      <td>0.000000</td>\n",
       "      <td>0.0753</td>\n",
       "      <td>0.6470</td>\n",
       "      <td>155.117</td>\n",
       "      <td>179413</td>\n",
       "      <td>4</td>\n",
       "      <td>1</td>\n",
       "    </tr>\n",
       "    <tr>\n",
       "      <th>...</th>\n",
       "      <td>...</td>\n",
       "      <td>...</td>\n",
       "      <td>...</td>\n",
       "      <td>...</td>\n",
       "      <td>...</td>\n",
       "      <td>...</td>\n",
       "      <td>...</td>\n",
       "      <td>...</td>\n",
       "      <td>...</td>\n",
       "      <td>...</td>\n",
       "      <td>...</td>\n",
       "      <td>...</td>\n",
       "      <td>...</td>\n",
       "      <td>...</td>\n",
       "    </tr>\n",
       "    <tr>\n",
       "      <th>190</th>\n",
       "      <td>0.166</td>\n",
       "      <td>0.0551</td>\n",
       "      <td>9</td>\n",
       "      <td>-19.494</td>\n",
       "      <td>0</td>\n",
       "      <td>0.0520</td>\n",
       "      <td>0.9760</td>\n",
       "      <td>0.635000</td>\n",
       "      <td>0.1190</td>\n",
       "      <td>0.1430</td>\n",
       "      <td>176.616</td>\n",
       "      <td>206520</td>\n",
       "      <td>3</td>\n",
       "      <td>0</td>\n",
       "    </tr>\n",
       "    <tr>\n",
       "      <th>191</th>\n",
       "      <td>0.862</td>\n",
       "      <td>0.6240</td>\n",
       "      <td>3</td>\n",
       "      <td>-11.630</td>\n",
       "      <td>1</td>\n",
       "      <td>0.0565</td>\n",
       "      <td>0.0192</td>\n",
       "      <td>0.000153</td>\n",
       "      <td>0.0465</td>\n",
       "      <td>0.8820</td>\n",
       "      <td>124.896</td>\n",
       "      <td>254240</td>\n",
       "      <td>4</td>\n",
       "      <td>0</td>\n",
       "    </tr>\n",
       "    <tr>\n",
       "      <th>192</th>\n",
       "      <td>0.499</td>\n",
       "      <td>0.3510</td>\n",
       "      <td>9</td>\n",
       "      <td>-11.509</td>\n",
       "      <td>0</td>\n",
       "      <td>0.0448</td>\n",
       "      <td>0.9510</td>\n",
       "      <td>0.000099</td>\n",
       "      <td>0.1180</td>\n",
       "      <td>0.6160</td>\n",
       "      <td>90.664</td>\n",
       "      <td>235947</td>\n",
       "      <td>4</td>\n",
       "      <td>0</td>\n",
       "    </tr>\n",
       "    <tr>\n",
       "      <th>193</th>\n",
       "      <td>0.574</td>\n",
       "      <td>0.7290</td>\n",
       "      <td>10</td>\n",
       "      <td>-5.838</td>\n",
       "      <td>0</td>\n",
       "      <td>0.0965</td>\n",
       "      <td>0.0406</td>\n",
       "      <td>0.000004</td>\n",
       "      <td>0.1940</td>\n",
       "      <td>0.4130</td>\n",
       "      <td>110.547</td>\n",
       "      <td>190239</td>\n",
       "      <td>5</td>\n",
       "      <td>1</td>\n",
       "    </tr>\n",
       "    <tr>\n",
       "      <th>194</th>\n",
       "      <td>0.747</td>\n",
       "      <td>0.6660</td>\n",
       "      <td>11</td>\n",
       "      <td>-7.845</td>\n",
       "      <td>1</td>\n",
       "      <td>0.1970</td>\n",
       "      <td>0.1300</td>\n",
       "      <td>0.000000</td>\n",
       "      <td>0.3600</td>\n",
       "      <td>0.5310</td>\n",
       "      <td>77.507</td>\n",
       "      <td>177213</td>\n",
       "      <td>4</td>\n",
       "      <td>1</td>\n",
       "    </tr>\n",
       "  </tbody>\n",
       "</table>\n",
       "<p>195 rows × 14 columns</p>\n",
       "</div>"
      ],
      "text/plain": [
       "     danceability  energy  key  loudness  mode  speechiness  acousticness  \\\n",
       "0           0.803  0.6240    7    -6.764     0       0.0477        0.4510   \n",
       "1           0.762  0.7030   10    -7.951     0       0.3060        0.2060   \n",
       "2           0.261  0.0149    1   -27.528     1       0.0419        0.9920   \n",
       "3           0.722  0.7360    3    -6.994     0       0.0585        0.4310   \n",
       "4           0.787  0.5720    1    -7.516     1       0.2220        0.1450   \n",
       "..            ...     ...  ...       ...   ...          ...           ...   \n",
       "190         0.166  0.0551    9   -19.494     0       0.0520        0.9760   \n",
       "191         0.862  0.6240    3   -11.630     1       0.0565        0.0192   \n",
       "192         0.499  0.3510    9   -11.509     0       0.0448        0.9510   \n",
       "193         0.574  0.7290   10    -5.838     0       0.0965        0.0406   \n",
       "194         0.747  0.6660   11    -7.845     1       0.1970        0.1300   \n",
       "\n",
       "     instrumentalness  liveness  valence    tempo  duration_ms  \\\n",
       "0            0.000734    0.1000   0.6280   95.968       304524   \n",
       "1            0.000000    0.0912   0.5190  151.329       247178   \n",
       "2            0.897000    0.1020   0.0382   75.296       286987   \n",
       "3            0.000001    0.1230   0.5820   89.860       208920   \n",
       "4            0.000000    0.0753   0.6470  155.117       179413   \n",
       "..                ...       ...      ...      ...          ...   \n",
       "190          0.635000    0.1190   0.1430  176.616       206520   \n",
       "191          0.000153    0.0465   0.8820  124.896       254240   \n",
       "192          0.000099    0.1180   0.6160   90.664       235947   \n",
       "193          0.000004    0.1940   0.4130  110.547       190239   \n",
       "194          0.000000    0.3600   0.5310   77.507       177213   \n",
       "\n",
       "     time_signature  liked  \n",
       "0                 4      0  \n",
       "1                 4      1  \n",
       "2                 4      0  \n",
       "3                 4      1  \n",
       "4                 4      1  \n",
       "..              ...    ...  \n",
       "190               3      0  \n",
       "191               4      0  \n",
       "192               4      0  \n",
       "193               5      1  \n",
       "194               4      1  \n",
       "\n",
       "[195 rows x 14 columns]"
      ]
     },
     "execution_count": 4,
     "metadata": {},
     "output_type": "execute_result"
    }
   ],
   "source": [
    "# leemos el conjunto de datos y lo guardamos en una variable llamada data\n",
    "# https://www.kaggle.com/datasets/bricevergnou/spotify-recommendation\n",
    "data = pd.read_csv('data.csv')\n",
    "pd.options.display.max_columns = 14 # mostramos las 14 columnas que tiene nuestro dataset, (columnas totales)\n",
    "data"
   ]
  },
  {
   "cell_type": "markdown",
   "id": "4efa8206",
   "metadata": {},
   "source": [
    "# Analisis descriptivo\n",
    "## Calculamos datos estadisticos"
   ]
  },
  {
   "cell_type": "code",
   "execution_count": 98,
   "id": "801a8e2e",
   "metadata": {
    "scrolled": true
   },
   "outputs": [
    {
     "name": "stdout",
     "output_type": "stream",
     "text": [
      "<class 'pandas.core.frame.DataFrame'>\n",
      "RangeIndex: 195 entries, 0 to 194\n",
      "Data columns (total 14 columns):\n",
      " #   Column            Non-Null Count  Dtype  \n",
      "---  ------            --------------  -----  \n",
      " 0   danceability      195 non-null    float64\n",
      " 1   energy            195 non-null    float64\n",
      " 2   key               195 non-null    int64  \n",
      " 3   loudness          195 non-null    float64\n",
      " 4   mode              195 non-null    int64  \n",
      " 5   speechiness       195 non-null    float64\n",
      " 6   acousticness      195 non-null    float64\n",
      " 7   instrumentalness  195 non-null    float64\n",
      " 8   liveness          195 non-null    float64\n",
      " 9   valence           195 non-null    float64\n",
      " 10  tempo             195 non-null    float64\n",
      " 11  duration_ms       195 non-null    int64  \n",
      " 12  time_signature    195 non-null    int64  \n",
      " 13  liked             195 non-null    int64  \n",
      "dtypes: float64(9), int64(5)\n",
      "memory usage: 21.5 KB\n"
     ]
    }
   ],
   "source": [
    "# Analisis descriptivo\n",
    "# Hallamos datos estadisticos\n",
    "# metadata de nuestro dataset: numbero de columnas, tipo de columnas, numbero de no nulls, memoria ...\n",
    "data.info()"
   ]
  },
  {
   "cell_type": "code",
   "execution_count": 102,
   "id": "76d5c24d",
   "metadata": {},
   "outputs": [
    {
     "data": {
      "text/html": [
       "<div>\n",
       "<style scoped>\n",
       "    .dataframe tbody tr th:only-of-type {\n",
       "        vertical-align: middle;\n",
       "    }\n",
       "\n",
       "    .dataframe tbody tr th {\n",
       "        vertical-align: top;\n",
       "    }\n",
       "\n",
       "    .dataframe thead th {\n",
       "        text-align: right;\n",
       "    }\n",
       "</style>\n",
       "<table border=\"1\" class=\"dataframe\">\n",
       "  <thead>\n",
       "    <tr style=\"text-align: right;\">\n",
       "      <th></th>\n",
       "      <th>danceability</th>\n",
       "      <th>energy</th>\n",
       "      <th>key</th>\n",
       "      <th>loudness</th>\n",
       "      <th>mode</th>\n",
       "      <th>speechiness</th>\n",
       "      <th>acousticness</th>\n",
       "      <th>instrumentalness</th>\n",
       "      <th>liveness</th>\n",
       "      <th>valence</th>\n",
       "      <th>tempo</th>\n",
       "      <th>duration_ms</th>\n",
       "      <th>time_signature</th>\n",
       "      <th>liked</th>\n",
       "    </tr>\n",
       "  </thead>\n",
       "  <tbody>\n",
       "    <tr>\n",
       "      <th>count</th>\n",
       "      <td>195.000000</td>\n",
       "      <td>195.000000</td>\n",
       "      <td>195.000000</td>\n",
       "      <td>195.000000</td>\n",
       "      <td>195.000000</td>\n",
       "      <td>195.000000</td>\n",
       "      <td>195.000000</td>\n",
       "      <td>195.000000</td>\n",
       "      <td>195.000000</td>\n",
       "      <td>195.000000</td>\n",
       "      <td>195.000000</td>\n",
       "      <td>195.000000</td>\n",
       "      <td>195.000000</td>\n",
       "      <td>195.000000</td>\n",
       "    </tr>\n",
       "    <tr>\n",
       "      <th>mean</th>\n",
       "      <td>0.636656</td>\n",
       "      <td>0.638431</td>\n",
       "      <td>5.497436</td>\n",
       "      <td>-9.481631</td>\n",
       "      <td>0.538462</td>\n",
       "      <td>0.148957</td>\n",
       "      <td>0.319093</td>\n",
       "      <td>0.192337</td>\n",
       "      <td>0.148455</td>\n",
       "      <td>0.493632</td>\n",
       "      <td>121.086174</td>\n",
       "      <td>213408.933333</td>\n",
       "      <td>3.912821</td>\n",
       "      <td>0.512821</td>\n",
       "    </tr>\n",
       "    <tr>\n",
       "      <th>std</th>\n",
       "      <td>0.216614</td>\n",
       "      <td>0.260096</td>\n",
       "      <td>3.415209</td>\n",
       "      <td>6.525086</td>\n",
       "      <td>0.499802</td>\n",
       "      <td>0.120414</td>\n",
       "      <td>0.320782</td>\n",
       "      <td>0.346226</td>\n",
       "      <td>0.105975</td>\n",
       "      <td>0.267695</td>\n",
       "      <td>28.084829</td>\n",
       "      <td>72152.392864</td>\n",
       "      <td>0.451332</td>\n",
       "      <td>0.501122</td>\n",
       "    </tr>\n",
       "    <tr>\n",
       "      <th>min</th>\n",
       "      <td>0.130000</td>\n",
       "      <td>0.002400</td>\n",
       "      <td>0.000000</td>\n",
       "      <td>-42.261000</td>\n",
       "      <td>0.000000</td>\n",
       "      <td>0.027800</td>\n",
       "      <td>0.000003</td>\n",
       "      <td>0.000000</td>\n",
       "      <td>0.033100</td>\n",
       "      <td>0.035300</td>\n",
       "      <td>60.171000</td>\n",
       "      <td>77203.000000</td>\n",
       "      <td>1.000000</td>\n",
       "      <td>0.000000</td>\n",
       "    </tr>\n",
       "    <tr>\n",
       "      <th>25%</th>\n",
       "      <td>0.462500</td>\n",
       "      <td>0.533500</td>\n",
       "      <td>2.000000</td>\n",
       "      <td>-9.962000</td>\n",
       "      <td>0.000000</td>\n",
       "      <td>0.056800</td>\n",
       "      <td>0.042200</td>\n",
       "      <td>0.000000</td>\n",
       "      <td>0.084000</td>\n",
       "      <td>0.269000</td>\n",
       "      <td>100.242000</td>\n",
       "      <td>178300.500000</td>\n",
       "      <td>4.000000</td>\n",
       "      <td>0.000000</td>\n",
       "    </tr>\n",
       "    <tr>\n",
       "      <th>50%</th>\n",
       "      <td>0.705000</td>\n",
       "      <td>0.659000</td>\n",
       "      <td>6.000000</td>\n",
       "      <td>-7.766000</td>\n",
       "      <td>1.000000</td>\n",
       "      <td>0.096200</td>\n",
       "      <td>0.213000</td>\n",
       "      <td>0.000008</td>\n",
       "      <td>0.105000</td>\n",
       "      <td>0.525000</td>\n",
       "      <td>124.896000</td>\n",
       "      <td>204000.000000</td>\n",
       "      <td>4.000000</td>\n",
       "      <td>1.000000</td>\n",
       "    </tr>\n",
       "    <tr>\n",
       "      <th>75%</th>\n",
       "      <td>0.799000</td>\n",
       "      <td>0.837500</td>\n",
       "      <td>8.000000</td>\n",
       "      <td>-5.829000</td>\n",
       "      <td>1.000000</td>\n",
       "      <td>0.230500</td>\n",
       "      <td>0.504000</td>\n",
       "      <td>0.097500</td>\n",
       "      <td>0.177000</td>\n",
       "      <td>0.717500</td>\n",
       "      <td>142.460500</td>\n",
       "      <td>242373.500000</td>\n",
       "      <td>4.000000</td>\n",
       "      <td>1.000000</td>\n",
       "    </tr>\n",
       "    <tr>\n",
       "      <th>max</th>\n",
       "      <td>0.946000</td>\n",
       "      <td>0.996000</td>\n",
       "      <td>11.000000</td>\n",
       "      <td>-2.336000</td>\n",
       "      <td>1.000000</td>\n",
       "      <td>0.540000</td>\n",
       "      <td>0.995000</td>\n",
       "      <td>0.969000</td>\n",
       "      <td>0.633000</td>\n",
       "      <td>0.980000</td>\n",
       "      <td>180.036000</td>\n",
       "      <td>655213.000000</td>\n",
       "      <td>5.000000</td>\n",
       "      <td>1.000000</td>\n",
       "    </tr>\n",
       "  </tbody>\n",
       "</table>\n",
       "</div>"
      ],
      "text/plain": [
       "       danceability      energy         key    loudness        mode  \\\n",
       "count    195.000000  195.000000  195.000000  195.000000  195.000000   \n",
       "mean       0.636656    0.638431    5.497436   -9.481631    0.538462   \n",
       "std        0.216614    0.260096    3.415209    6.525086    0.499802   \n",
       "min        0.130000    0.002400    0.000000  -42.261000    0.000000   \n",
       "25%        0.462500    0.533500    2.000000   -9.962000    0.000000   \n",
       "50%        0.705000    0.659000    6.000000   -7.766000    1.000000   \n",
       "75%        0.799000    0.837500    8.000000   -5.829000    1.000000   \n",
       "max        0.946000    0.996000   11.000000   -2.336000    1.000000   \n",
       "\n",
       "       speechiness  acousticness  instrumentalness    liveness     valence  \\\n",
       "count   195.000000    195.000000        195.000000  195.000000  195.000000   \n",
       "mean      0.148957      0.319093          0.192337    0.148455    0.493632   \n",
       "std       0.120414      0.320782          0.346226    0.105975    0.267695   \n",
       "min       0.027800      0.000003          0.000000    0.033100    0.035300   \n",
       "25%       0.056800      0.042200          0.000000    0.084000    0.269000   \n",
       "50%       0.096200      0.213000          0.000008    0.105000    0.525000   \n",
       "75%       0.230500      0.504000          0.097500    0.177000    0.717500   \n",
       "max       0.540000      0.995000          0.969000    0.633000    0.980000   \n",
       "\n",
       "            tempo    duration_ms  time_signature       liked  \n",
       "count  195.000000     195.000000      195.000000  195.000000  \n",
       "mean   121.086174  213408.933333        3.912821    0.512821  \n",
       "std     28.084829   72152.392864        0.451332    0.501122  \n",
       "min     60.171000   77203.000000        1.000000    0.000000  \n",
       "25%    100.242000  178300.500000        4.000000    0.000000  \n",
       "50%    124.896000  204000.000000        4.000000    1.000000  \n",
       "75%    142.460500  242373.500000        4.000000    1.000000  \n",
       "max    180.036000  655213.000000        5.000000    1.000000  "
      ]
     },
     "execution_count": 102,
     "metadata": {},
     "output_type": "execute_result"
    }
   ],
   "source": [
    "# Hallamos datos estadisticos para todas las columnas\n",
    "data.describe()"
   ]
  },
  {
   "cell_type": "markdown",
   "id": "009ca53b",
   "metadata": {},
   "source": [
    "## Estudio de las variables categoricas"
   ]
  },
  {
   "cell_type": "markdown",
   "id": "7c7a2f0e",
   "metadata": {},
   "source": [
    "### 1. Variable categorica \"key\", mapea integers to pitches:\n",
    "- 0 => C\n",
    "- 1 => C#/Db\n",
    "- 2 => D\n",
    "- 3 => D#/Eb\n",
    "- 4 => E\n",
    "- 5 => F\n",
    "- 6 => F#/Gb\n",
    "- 7 => G\n",
    "- 8 => G#/Ab\n",
    "- 9 => A\n",
    "- 10 => A#/Bb\n",
    "- 11 => B"
   ]
  },
  {
   "cell_type": "code",
   "execution_count": 9,
   "id": "56bcc9db",
   "metadata": {},
   "outputs": [
    {
     "data": {
      "text/plain": [
       "1     30\n",
       "8     22\n",
       "6     20\n",
       "7     19\n",
       "9     18\n",
       "5     18\n",
       "10    17\n",
       "2     15\n",
       "0     12\n",
       "11    10\n",
       "4      9\n",
       "3      5\n",
       "Name: key, dtype: int64"
      ]
     },
     "execution_count": 9,
     "metadata": {},
     "output_type": "execute_result"
    }
   ],
   "source": [
    "# Estudiamos las variables categoricas\n",
    "# variable categorica \"key\": mapea integers to pitches:\n",
    "# 0 => C\n",
    "# 1 => C#/Db\n",
    "# 2 => D\n",
    "# 3 => D#/Eb\n",
    "# 4 => E\n",
    "# 5 => F\n",
    "# 6 => F#/Gb\n",
    "# 7 => G\n",
    "# 8 => G#/Ab\n",
    "# 9 => A\n",
    "# 10 => A#/Bb\n",
    "# 11 => B\n",
    "key = data['key'].value_counts() # contamos las frecuencias de la variable categorica key para cada categoria\n",
    "key"
   ]
  },
  {
   "cell_type": "code",
   "execution_count": 103,
   "id": "00f92a23",
   "metadata": {},
   "outputs": [
    {
     "data": {
      "text/plain": [
       "array([[<AxesSubplot:title={'center':'key'}>]], dtype=object)"
      ]
     },
     "execution_count": 103,
     "metadata": {},
     "output_type": "execute_result"
    },
    {
     "data": {
      "image/png": "[encoded data removed]",
      "text/plain": [
       "<Figure size 640x480 with 1 Axes>"
      ]
     },
     "metadata": {},
     "output_type": "display_data"
    }
   ],
   "source": [
    "# representamos el histograma de la variable categoria para visualizar numero de frecuencias para cada categoria\n",
    "# observamos que la categoria 0 => C, es la que mas frecuencias tiene\n",
    "data.hist(column='key')"
   ]
  },
  {
   "cell_type": "markdown",
   "id": "36eae4ad",
   "metadata": {},
   "source": [
    "## 2. Variable categorica \"mode\", es la modalidad:\n",
    "- 1 => major\n",
    "- 0 => minor"
   ]
  },
  {
   "cell_type": "code",
   "execution_count": 104,
   "id": "a22e2f07",
   "metadata": {},
   "outputs": [
    {
     "data": {
      "text/plain": [
       "1    105\n",
       "0     90\n",
       "Name: mode, dtype: int64"
      ]
     },
     "execution_count": 104,
     "metadata": {},
     "output_type": "execute_result"
    }
   ],
   "source": [
    "# Estudiamos las variables categoricas\n",
    "# variable categorica \"mode\" => es la modalidad:\n",
    "# 1 => major\n",
    "# 0 => minor\n",
    "mode = data['mode'].value_counts() # contamos las frecuencias de la variable categorica key para cada categoria\n",
    "mode"
   ]
  },
  {
   "cell_type": "code",
   "execution_count": 105,
   "id": "97427cc6",
   "metadata": {},
   "outputs": [
    {
     "data": {
      "text/plain": [
       "array([[<AxesSubplot:title={'center':'mode'}>]], dtype=object)"
      ]
     },
     "execution_count": 105,
     "metadata": {},
     "output_type": "execute_result"
    },
    {
     "data": {
      "image/png": "[encoded data removed]",
      "text/plain": [
       "<Figure size 640x480 with 1 Axes>"
      ]
     },
     "metadata": {},
     "output_type": "display_data"
    }
   ],
   "source": [
    "# representamos el histograma de la variable categoria para visualizar numero de frecuencias para cada categoria\n",
    "# observamos que la categoria 1, es la que mas frecuencias tiene\n",
    "data.hist(column='mode')"
   ]
  },
  {
   "cell_type": "markdown",
   "id": "2e8eaa75",
   "metadata": {},
   "source": [
    "## 3. Variable categorica \"liked\", es la variable dependiente o respuesta:\n",
    "- 1 => like\n",
    "- 0 => dislike"
   ]
  },
  {
   "cell_type": "code",
   "execution_count": 13,
   "id": "f0cf1d2c",
   "metadata": {},
   "outputs": [
    {
     "data": {
      "text/plain": [
       "1    100\n",
       "0     95\n",
       "Name: liked, dtype: int64"
      ]
     },
     "execution_count": 13,
     "metadata": {},
     "output_type": "execute_result"
    }
   ],
   "source": [
    "# Estudiamos las variables categoricas\n",
    "# variable categorica \"liked\": es la variable dependiente o respuesta\n",
    "# 1 => like\n",
    "# 0 => dislike\n",
    "liked = data['liked'].value_counts() # contamos las frecuencias de la variable categorica key para cada categoria\n",
    "liked"
   ]
  },
  {
   "cell_type": "code",
   "execution_count": 106,
   "id": "203e1cc2",
   "metadata": {},
   "outputs": [
    {
     "data": {
      "text/plain": [
       "array([[<AxesSubplot:title={'center':'liked'}>]], dtype=object)"
      ]
     },
     "execution_count": 106,
     "metadata": {},
     "output_type": "execute_result"
    },
    {
     "data": {
      "image/png": "[encoded data removed]",
      "text/plain": [
       "<Figure size 640x480 with 1 Axes>"
      ]
     },
     "metadata": {},
     "output_type": "display_data"
    }
   ],
   "source": [
    "# representamos el histograma de la variable categoria para visualizar numero de frecuencias para cada categoria\n",
    "data.hist(column='liked')"
   ]
  },
  {
   "cell_type": "markdown",
   "id": "cecae3e3",
   "metadata": {},
   "source": [
    "## Analisis de correlacion de variables"
   ]
  },
  {
   "cell_type": "code",
   "execution_count": 107,
   "id": "2339ce7d",
   "metadata": {},
   "outputs": [
    {
     "data": {
      "text/html": [
       "<div>\n",
       "<style scoped>\n",
       "    .dataframe tbody tr th:only-of-type {\n",
       "        vertical-align: middle;\n",
       "    }\n",
       "\n",
       "    .dataframe tbody tr th {\n",
       "        vertical-align: top;\n",
       "    }\n",
       "\n",
       "    .dataframe thead th {\n",
       "        text-align: right;\n",
       "    }\n",
       "</style>\n",
       "<table border=\"1\" class=\"dataframe\">\n",
       "  <thead>\n",
       "    <tr style=\"text-align: right;\">\n",
       "      <th></th>\n",
       "      <th>danceability</th>\n",
       "      <th>energy</th>\n",
       "      <th>key</th>\n",
       "      <th>loudness</th>\n",
       "      <th>mode</th>\n",
       "      <th>speechiness</th>\n",
       "      <th>acousticness</th>\n",
       "      <th>instrumentalness</th>\n",
       "      <th>liveness</th>\n",
       "      <th>valence</th>\n",
       "      <th>tempo</th>\n",
       "      <th>duration_ms</th>\n",
       "      <th>time_signature</th>\n",
       "      <th>liked</th>\n",
       "    </tr>\n",
       "  </thead>\n",
       "  <tbody>\n",
       "    <tr>\n",
       "      <th>danceability</th>\n",
       "      <td>1.000000</td>\n",
       "      <td>0.137188</td>\n",
       "      <td>-0.063906</td>\n",
       "      <td>0.455078</td>\n",
       "      <td>0.043759</td>\n",
       "      <td>0.388596</td>\n",
       "      <td>-0.234176</td>\n",
       "      <td>-0.807053</td>\n",
       "      <td>-0.137069</td>\n",
       "      <td>0.612344</td>\n",
       "      <td>0.223522</td>\n",
       "      <td>-0.232621</td>\n",
       "      <td>0.317096</td>\n",
       "      <td>0.569425</td>\n",
       "    </tr>\n",
       "    <tr>\n",
       "      <th>energy</th>\n",
       "      <td>0.137188</td>\n",
       "      <td>1.000000</td>\n",
       "      <td>0.130251</td>\n",
       "      <td>0.813567</td>\n",
       "      <td>-0.068308</td>\n",
       "      <td>0.122825</td>\n",
       "      <td>-0.772583</td>\n",
       "      <td>-0.241444</td>\n",
       "      <td>0.166508</td>\n",
       "      <td>0.319409</td>\n",
       "      <td>0.214905</td>\n",
       "      <td>-0.134527</td>\n",
       "      <td>0.123942</td>\n",
       "      <td>0.176179</td>\n",
       "    </tr>\n",
       "    <tr>\n",
       "      <th>key</th>\n",
       "      <td>-0.063906</td>\n",
       "      <td>0.130251</td>\n",
       "      <td>1.000000</td>\n",
       "      <td>0.046865</td>\n",
       "      <td>-0.103371</td>\n",
       "      <td>-0.093395</td>\n",
       "      <td>-0.066844</td>\n",
       "      <td>0.003597</td>\n",
       "      <td>-0.039622</td>\n",
       "      <td>0.033336</td>\n",
       "      <td>0.097240</td>\n",
       "      <td>0.054522</td>\n",
       "      <td>0.048344</td>\n",
       "      <td>-0.044406</td>\n",
       "    </tr>\n",
       "    <tr>\n",
       "      <th>loudness</th>\n",
       "      <td>0.455078</td>\n",
       "      <td>0.813567</td>\n",
       "      <td>0.046865</td>\n",
       "      <td>1.000000</td>\n",
       "      <td>-0.041678</td>\n",
       "      <td>0.279710</td>\n",
       "      <td>-0.664989</td>\n",
       "      <td>-0.538266</td>\n",
       "      <td>0.078093</td>\n",
       "      <td>0.363532</td>\n",
       "      <td>0.274462</td>\n",
       "      <td>-0.206334</td>\n",
       "      <td>0.207806</td>\n",
       "      <td>0.410774</td>\n",
       "    </tr>\n",
       "    <tr>\n",
       "      <th>mode</th>\n",
       "      <td>0.043759</td>\n",
       "      <td>-0.068308</td>\n",
       "      <td>-0.103371</td>\n",
       "      <td>-0.041678</td>\n",
       "      <td>1.000000</td>\n",
       "      <td>0.031953</td>\n",
       "      <td>-0.025709</td>\n",
       "      <td>0.075442</td>\n",
       "      <td>-0.048661</td>\n",
       "      <td>0.033409</td>\n",
       "      <td>-0.036270</td>\n",
       "      <td>-0.060965</td>\n",
       "      <td>-0.110739</td>\n",
       "      <td>0.023747</td>\n",
       "    </tr>\n",
       "    <tr>\n",
       "      <th>speechiness</th>\n",
       "      <td>0.388596</td>\n",
       "      <td>0.122825</td>\n",
       "      <td>-0.093395</td>\n",
       "      <td>0.279710</td>\n",
       "      <td>0.031953</td>\n",
       "      <td>1.000000</td>\n",
       "      <td>-0.079710</td>\n",
       "      <td>-0.343242</td>\n",
       "      <td>-0.006665</td>\n",
       "      <td>0.180708</td>\n",
       "      <td>0.313918</td>\n",
       "      <td>-0.388397</td>\n",
       "      <td>0.140325</td>\n",
       "      <td>0.591505</td>\n",
       "    </tr>\n",
       "    <tr>\n",
       "      <th>acousticness</th>\n",
       "      <td>-0.234176</td>\n",
       "      <td>-0.772583</td>\n",
       "      <td>-0.066844</td>\n",
       "      <td>-0.664989</td>\n",
       "      <td>-0.025709</td>\n",
       "      <td>-0.079710</td>\n",
       "      <td>1.000000</td>\n",
       "      <td>0.294320</td>\n",
       "      <td>-0.140988</td>\n",
       "      <td>-0.313806</td>\n",
       "      <td>-0.255097</td>\n",
       "      <td>0.138793</td>\n",
       "      <td>-0.142177</td>\n",
       "      <td>-0.179375</td>\n",
       "    </tr>\n",
       "    <tr>\n",
       "      <th>instrumentalness</th>\n",
       "      <td>-0.807053</td>\n",
       "      <td>-0.241444</td>\n",
       "      <td>0.003597</td>\n",
       "      <td>-0.538266</td>\n",
       "      <td>0.075442</td>\n",
       "      <td>-0.343242</td>\n",
       "      <td>0.294320</td>\n",
       "      <td>1.000000</td>\n",
       "      <td>0.055730</td>\n",
       "      <td>-0.572224</td>\n",
       "      <td>-0.299493</td>\n",
       "      <td>0.249683</td>\n",
       "      <td>-0.375199</td>\n",
       "      <td>-0.569440</td>\n",
       "    </tr>\n",
       "    <tr>\n",
       "      <th>liveness</th>\n",
       "      <td>-0.137069</td>\n",
       "      <td>0.166508</td>\n",
       "      <td>-0.039622</td>\n",
       "      <td>0.078093</td>\n",
       "      <td>-0.048661</td>\n",
       "      <td>-0.006665</td>\n",
       "      <td>-0.140988</td>\n",
       "      <td>0.055730</td>\n",
       "      <td>1.000000</td>\n",
       "      <td>-0.013004</td>\n",
       "      <td>-0.010555</td>\n",
       "      <td>-0.143966</td>\n",
       "      <td>-0.135409</td>\n",
       "      <td>-0.009797</td>\n",
       "    </tr>\n",
       "    <tr>\n",
       "      <th>valence</th>\n",
       "      <td>0.612344</td>\n",
       "      <td>0.319409</td>\n",
       "      <td>0.033336</td>\n",
       "      <td>0.363532</td>\n",
       "      <td>0.033409</td>\n",
       "      <td>0.180708</td>\n",
       "      <td>-0.313806</td>\n",
       "      <td>-0.572224</td>\n",
       "      <td>-0.013004</td>\n",
       "      <td>1.000000</td>\n",
       "      <td>0.218017</td>\n",
       "      <td>-0.114842</td>\n",
       "      <td>0.201111</td>\n",
       "      <td>0.268653</td>\n",
       "    </tr>\n",
       "    <tr>\n",
       "      <th>tempo</th>\n",
       "      <td>0.223522</td>\n",
       "      <td>0.214905</td>\n",
       "      <td>0.097240</td>\n",
       "      <td>0.274462</td>\n",
       "      <td>-0.036270</td>\n",
       "      <td>0.313918</td>\n",
       "      <td>-0.255097</td>\n",
       "      <td>-0.299493</td>\n",
       "      <td>-0.010555</td>\n",
       "      <td>0.218017</td>\n",
       "      <td>1.000000</td>\n",
       "      <td>-0.256250</td>\n",
       "      <td>0.071754</td>\n",
       "      <td>0.371202</td>\n",
       "    </tr>\n",
       "    <tr>\n",
       "      <th>duration_ms</th>\n",
       "      <td>-0.232621</td>\n",
       "      <td>-0.134527</td>\n",
       "      <td>0.054522</td>\n",
       "      <td>-0.206334</td>\n",
       "      <td>-0.060965</td>\n",
       "      <td>-0.388397</td>\n",
       "      <td>0.138793</td>\n",
       "      <td>0.249683</td>\n",
       "      <td>-0.143966</td>\n",
       "      <td>-0.114842</td>\n",
       "      <td>-0.256250</td>\n",
       "      <td>1.000000</td>\n",
       "      <td>-0.039078</td>\n",
       "      <td>-0.490651</td>\n",
       "    </tr>\n",
       "    <tr>\n",
       "      <th>time_signature</th>\n",
       "      <td>0.317096</td>\n",
       "      <td>0.123942</td>\n",
       "      <td>0.048344</td>\n",
       "      <td>0.207806</td>\n",
       "      <td>-0.110739</td>\n",
       "      <td>0.140325</td>\n",
       "      <td>-0.142177</td>\n",
       "      <td>-0.375199</td>\n",
       "      <td>-0.135409</td>\n",
       "      <td>0.201111</td>\n",
       "      <td>0.071754</td>\n",
       "      <td>-0.039078</td>\n",
       "      <td>1.000000</td>\n",
       "      <td>0.221479</td>\n",
       "    </tr>\n",
       "    <tr>\n",
       "      <th>liked</th>\n",
       "      <td>0.569425</td>\n",
       "      <td>0.176179</td>\n",
       "      <td>-0.044406</td>\n",
       "      <td>0.410774</td>\n",
       "      <td>0.023747</td>\n",
       "      <td>0.591505</td>\n",
       "      <td>-0.179375</td>\n",
       "      <td>-0.569440</td>\n",
       "      <td>-0.009797</td>\n",
       "      <td>0.268653</td>\n",
       "      <td>0.371202</td>\n",
       "      <td>-0.490651</td>\n",
       "      <td>0.221479</td>\n",
       "      <td>1.000000</td>\n",
       "    </tr>\n",
       "  </tbody>\n",
       "</table>\n",
       "</div>"
      ],
      "text/plain": [
       "                  danceability    energy       key  loudness      mode  \\\n",
       "danceability          1.000000  0.137188 -0.063906  0.455078  0.043759   \n",
       "energy                0.137188  1.000000  0.130251  0.813567 -0.068308   \n",
       "key                  -0.063906  0.130251  1.000000  0.046865 -0.103371   \n",
       "loudness              0.455078  0.813567  0.046865  1.000000 -0.041678   \n",
       "mode                  0.043759 -0.068308 -0.103371 -0.041678  1.000000   \n",
       "speechiness           0.388596  0.122825 -0.093395  0.279710  0.031953   \n",
       "acousticness         -0.234176 -0.772583 -0.066844 -0.664989 -0.025709   \n",
       "instrumentalness     -0.807053 -0.241444  0.003597 -0.538266  0.075442   \n",
       "liveness             -0.137069  0.166508 -0.039622  0.078093 -0.048661   \n",
       "valence               0.612344  0.319409  0.033336  0.363532  0.033409   \n",
       "tempo                 0.223522  0.214905  0.097240  0.274462 -0.036270   \n",
       "duration_ms          -0.232621 -0.134527  0.054522 -0.206334 -0.060965   \n",
       "time_signature        0.317096  0.123942  0.048344  0.207806 -0.110739   \n",
       "liked                 0.569425  0.176179 -0.044406  0.410774  0.023747   \n",
       "\n",
       "                  speechiness  acousticness  instrumentalness  liveness  \\\n",
       "danceability         0.388596     -0.234176         -0.807053 -0.137069   \n",
       "energy               0.122825     -0.772583         -0.241444  0.166508   \n",
       "key                 -0.093395     -0.066844          0.003597 -0.039622   \n",
       "loudness             0.279710     -0.664989         -0.538266  0.078093   \n",
       "mode                 0.031953     -0.025709          0.075442 -0.048661   \n",
       "speechiness          1.000000     -0.079710         -0.343242 -0.006665   \n",
       "acousticness        -0.079710      1.000000          0.294320 -0.140988   \n",
       "instrumentalness    -0.343242      0.294320          1.000000  0.055730   \n",
       "liveness            -0.006665     -0.140988          0.055730  1.000000   \n",
       "valence              0.180708     -0.313806         -0.572224 -0.013004   \n",
       "tempo                0.313918     -0.255097         -0.299493 -0.010555   \n",
       "duration_ms         -0.388397      0.138793          0.249683 -0.143966   \n",
       "time_signature       0.140325     -0.142177         -0.375199 -0.135409   \n",
       "liked                0.591505     -0.179375         -0.569440 -0.009797   \n",
       "\n",
       "                   valence     tempo  duration_ms  time_signature     liked  \n",
       "danceability      0.612344  0.223522    -0.232621        0.317096  0.569425  \n",
       "energy            0.319409  0.214905    -0.134527        0.123942  0.176179  \n",
       "key               0.033336  0.097240     0.054522        0.048344 -0.044406  \n",
       "loudness          0.363532  0.274462    -0.206334        0.207806  0.410774  \n",
       "mode              0.033409 -0.036270    -0.060965       -0.110739  0.023747  \n",
       "speechiness       0.180708  0.313918    -0.388397        0.140325  0.591505  \n",
       "acousticness     -0.313806 -0.255097     0.138793       -0.142177 -0.179375  \n",
       "instrumentalness -0.572224 -0.299493     0.249683       -0.375199 -0.569440  \n",
       "liveness         -0.013004 -0.010555    -0.143966       -0.135409 -0.009797  \n",
       "valence           1.000000  0.218017    -0.114842        0.201111  0.268653  \n",
       "tempo             0.218017  1.000000    -0.256250        0.071754  0.371202  \n",
       "duration_ms      -0.114842 -0.256250     1.000000       -0.039078 -0.490651  \n",
       "time_signature    0.201111  0.071754    -0.039078        1.000000  0.221479  \n",
       "liked             0.268653  0.371202    -0.490651        0.221479  1.000000  "
      ]
     },
     "execution_count": 107,
     "metadata": {},
     "output_type": "execute_result"
    }
   ],
   "source": [
    "# Analisis descriptivo\n",
    "# Estudio de la correlacion\n",
    "corr = data.corr()\n",
    "corr"
   ]
  },
  {
   "cell_type": "code",
   "execution_count": 108,
   "id": "a82cd852",
   "metadata": {},
   "outputs": [
    {
     "data": {
      "image/png": "[encoded data removed]",
      "text/plain": [
       "<Figure size 640x480 with 2 Axes>"
      ]
     },
     "metadata": {},
     "output_type": "display_data"
    }
   ],
   "source": [
    "# Visualizamos la correlacion de todas nuestras variables representando un mapa de calor\n",
    "dataplot = sns.heatmap(corr, cmap=\"YlGnBu\", annot=False)\n",
    "import matplotlib.pyplot as mp\n",
    "mp.show() # displaying heatmap"
   ]
  },
  {
   "cell_type": "markdown",
   "id": "b8e950bf",
   "metadata": {},
   "source": [
    "## Estudio de la correlacion entre variables\n",
    "#### Definimos alta correlacion si el valor de correlacion supera los 0.8"
   ]
  },
  {
   "cell_type": "code",
   "execution_count": 109,
   "id": "7da5f3f9",
   "metadata": {},
   "outputs": [
    {
     "data": {
      "text/html": [
       "<div>\n",
       "<style scoped>\n",
       "    .dataframe tbody tr th:only-of-type {\n",
       "        vertical-align: middle;\n",
       "    }\n",
       "\n",
       "    .dataframe tbody tr th {\n",
       "        vertical-align: top;\n",
       "    }\n",
       "\n",
       "    .dataframe thead th {\n",
       "        text-align: right;\n",
       "    }\n",
       "</style>\n",
       "<table border=\"1\" class=\"dataframe\">\n",
       "  <thead>\n",
       "    <tr style=\"text-align: right;\">\n",
       "      <th></th>\n",
       "      <th>danceability</th>\n",
       "      <th>energy</th>\n",
       "      <th>key</th>\n",
       "      <th>loudness</th>\n",
       "      <th>mode</th>\n",
       "      <th>speechiness</th>\n",
       "      <th>acousticness</th>\n",
       "      <th>instrumentalness</th>\n",
       "      <th>liveness</th>\n",
       "      <th>valence</th>\n",
       "      <th>tempo</th>\n",
       "      <th>duration_ms</th>\n",
       "      <th>time_signature</th>\n",
       "      <th>liked</th>\n",
       "    </tr>\n",
       "  </thead>\n",
       "  <tbody>\n",
       "    <tr>\n",
       "      <th>danceability</th>\n",
       "      <td>1.0</td>\n",
       "      <td>NaN</td>\n",
       "      <td>NaN</td>\n",
       "      <td>NaN</td>\n",
       "      <td>NaN</td>\n",
       "      <td>NaN</td>\n",
       "      <td>NaN</td>\n",
       "      <td>NaN</td>\n",
       "      <td>NaN</td>\n",
       "      <td>NaN</td>\n",
       "      <td>NaN</td>\n",
       "      <td>NaN</td>\n",
       "      <td>NaN</td>\n",
       "      <td>NaN</td>\n",
       "    </tr>\n",
       "    <tr>\n",
       "      <th>energy</th>\n",
       "      <td>NaN</td>\n",
       "      <td>1.000000</td>\n",
       "      <td>NaN</td>\n",
       "      <td>0.813567</td>\n",
       "      <td>NaN</td>\n",
       "      <td>NaN</td>\n",
       "      <td>NaN</td>\n",
       "      <td>NaN</td>\n",
       "      <td>NaN</td>\n",
       "      <td>NaN</td>\n",
       "      <td>NaN</td>\n",
       "      <td>NaN</td>\n",
       "      <td>NaN</td>\n",
       "      <td>NaN</td>\n",
       "    </tr>\n",
       "    <tr>\n",
       "      <th>key</th>\n",
       "      <td>NaN</td>\n",
       "      <td>NaN</td>\n",
       "      <td>1.0</td>\n",
       "      <td>NaN</td>\n",
       "      <td>NaN</td>\n",
       "      <td>NaN</td>\n",
       "      <td>NaN</td>\n",
       "      <td>NaN</td>\n",
       "      <td>NaN</td>\n",
       "      <td>NaN</td>\n",
       "      <td>NaN</td>\n",
       "      <td>NaN</td>\n",
       "      <td>NaN</td>\n",
       "      <td>NaN</td>\n",
       "    </tr>\n",
       "    <tr>\n",
       "      <th>loudness</th>\n",
       "      <td>NaN</td>\n",
       "      <td>0.813567</td>\n",
       "      <td>NaN</td>\n",
       "      <td>1.000000</td>\n",
       "      <td>NaN</td>\n",
       "      <td>NaN</td>\n",
       "      <td>NaN</td>\n",
       "      <td>NaN</td>\n",
       "      <td>NaN</td>\n",
       "      <td>NaN</td>\n",
       "      <td>NaN</td>\n",
       "      <td>NaN</td>\n",
       "      <td>NaN</td>\n",
       "      <td>NaN</td>\n",
       "    </tr>\n",
       "    <tr>\n",
       "      <th>mode</th>\n",
       "      <td>NaN</td>\n",
       "      <td>NaN</td>\n",
       "      <td>NaN</td>\n",
       "      <td>NaN</td>\n",
       "      <td>1.0</td>\n",
       "      <td>NaN</td>\n",
       "      <td>NaN</td>\n",
       "      <td>NaN</td>\n",
       "      <td>NaN</td>\n",
       "      <td>NaN</td>\n",
       "      <td>NaN</td>\n",
       "      <td>NaN</td>\n",
       "      <td>NaN</td>\n",
       "      <td>NaN</td>\n",
       "    </tr>\n",
       "    <tr>\n",
       "      <th>speechiness</th>\n",
       "      <td>NaN</td>\n",
       "      <td>NaN</td>\n",
       "      <td>NaN</td>\n",
       "      <td>NaN</td>\n",
       "      <td>NaN</td>\n",
       "      <td>1.0</td>\n",
       "      <td>NaN</td>\n",
       "      <td>NaN</td>\n",
       "      <td>NaN</td>\n",
       "      <td>NaN</td>\n",
       "      <td>NaN</td>\n",
       "      <td>NaN</td>\n",
       "      <td>NaN</td>\n",
       "      <td>NaN</td>\n",
       "    </tr>\n",
       "    <tr>\n",
       "      <th>acousticness</th>\n",
       "      <td>NaN</td>\n",
       "      <td>NaN</td>\n",
       "      <td>NaN</td>\n",
       "      <td>NaN</td>\n",
       "      <td>NaN</td>\n",
       "      <td>NaN</td>\n",
       "      <td>1.0</td>\n",
       "      <td>NaN</td>\n",
       "      <td>NaN</td>\n",
       "      <td>NaN</td>\n",
       "      <td>NaN</td>\n",
       "      <td>NaN</td>\n",
       "      <td>NaN</td>\n",
       "      <td>NaN</td>\n",
       "    </tr>\n",
       "    <tr>\n",
       "      <th>instrumentalness</th>\n",
       "      <td>NaN</td>\n",
       "      <td>NaN</td>\n",
       "      <td>NaN</td>\n",
       "      <td>NaN</td>\n",
       "      <td>NaN</td>\n",
       "      <td>NaN</td>\n",
       "      <td>NaN</td>\n",
       "      <td>1.0</td>\n",
       "      <td>NaN</td>\n",
       "      <td>NaN</td>\n",
       "      <td>NaN</td>\n",
       "      <td>NaN</td>\n",
       "      <td>NaN</td>\n",
       "      <td>NaN</td>\n",
       "    </tr>\n",
       "    <tr>\n",
       "      <th>liveness</th>\n",
       "      <td>NaN</td>\n",
       "      <td>NaN</td>\n",
       "      <td>NaN</td>\n",
       "      <td>NaN</td>\n",
       "      <td>NaN</td>\n",
       "      <td>NaN</td>\n",
       "      <td>NaN</td>\n",
       "      <td>NaN</td>\n",
       "      <td>1.0</td>\n",
       "      <td>NaN</td>\n",
       "      <td>NaN</td>\n",
       "      <td>NaN</td>\n",
       "      <td>NaN</td>\n",
       "      <td>NaN</td>\n",
       "    </tr>\n",
       "    <tr>\n",
       "      <th>valence</th>\n",
       "      <td>NaN</td>\n",
       "      <td>NaN</td>\n",
       "      <td>NaN</td>\n",
       "      <td>NaN</td>\n",
       "      <td>NaN</td>\n",
       "      <td>NaN</td>\n",
       "      <td>NaN</td>\n",
       "      <td>NaN</td>\n",
       "      <td>NaN</td>\n",
       "      <td>1.0</td>\n",
       "      <td>NaN</td>\n",
       "      <td>NaN</td>\n",
       "      <td>NaN</td>\n",
       "      <td>NaN</td>\n",
       "    </tr>\n",
       "    <tr>\n",
       "      <th>tempo</th>\n",
       "      <td>NaN</td>\n",
       "      <td>NaN</td>\n",
       "      <td>NaN</td>\n",
       "      <td>NaN</td>\n",
       "      <td>NaN</td>\n",
       "      <td>NaN</td>\n",
       "      <td>NaN</td>\n",
       "      <td>NaN</td>\n",
       "      <td>NaN</td>\n",
       "      <td>NaN</td>\n",
       "      <td>1.0</td>\n",
       "      <td>NaN</td>\n",
       "      <td>NaN</td>\n",
       "      <td>NaN</td>\n",
       "    </tr>\n",
       "    <tr>\n",
       "      <th>duration_ms</th>\n",
       "      <td>NaN</td>\n",
       "      <td>NaN</td>\n",
       "      <td>NaN</td>\n",
       "      <td>NaN</td>\n",
       "      <td>NaN</td>\n",
       "      <td>NaN</td>\n",
       "      <td>NaN</td>\n",
       "      <td>NaN</td>\n",
       "      <td>NaN</td>\n",
       "      <td>NaN</td>\n",
       "      <td>NaN</td>\n",
       "      <td>1.0</td>\n",
       "      <td>NaN</td>\n",
       "      <td>NaN</td>\n",
       "    </tr>\n",
       "    <tr>\n",
       "      <th>time_signature</th>\n",
       "      <td>NaN</td>\n",
       "      <td>NaN</td>\n",
       "      <td>NaN</td>\n",
       "      <td>NaN</td>\n",
       "      <td>NaN</td>\n",
       "      <td>NaN</td>\n",
       "      <td>NaN</td>\n",
       "      <td>NaN</td>\n",
       "      <td>NaN</td>\n",
       "      <td>NaN</td>\n",
       "      <td>NaN</td>\n",
       "      <td>NaN</td>\n",
       "      <td>1.0</td>\n",
       "      <td>NaN</td>\n",
       "    </tr>\n",
       "    <tr>\n",
       "      <th>liked</th>\n",
       "      <td>NaN</td>\n",
       "      <td>NaN</td>\n",
       "      <td>NaN</td>\n",
       "      <td>NaN</td>\n",
       "      <td>NaN</td>\n",
       "      <td>NaN</td>\n",
       "      <td>NaN</td>\n",
       "      <td>NaN</td>\n",
       "      <td>NaN</td>\n",
       "      <td>NaN</td>\n",
       "      <td>NaN</td>\n",
       "      <td>NaN</td>\n",
       "      <td>NaN</td>\n",
       "      <td>1.0</td>\n",
       "    </tr>\n",
       "  </tbody>\n",
       "</table>\n",
       "</div>"
      ],
      "text/plain": [
       "                  danceability    energy  key  loudness  mode  speechiness  \\\n",
       "danceability               1.0       NaN  NaN       NaN   NaN          NaN   \n",
       "energy                     NaN  1.000000  NaN  0.813567   NaN          NaN   \n",
       "key                        NaN       NaN  1.0       NaN   NaN          NaN   \n",
       "loudness                   NaN  0.813567  NaN  1.000000   NaN          NaN   \n",
       "mode                       NaN       NaN  NaN       NaN   1.0          NaN   \n",
       "speechiness                NaN       NaN  NaN       NaN   NaN          1.0   \n",
       "acousticness               NaN       NaN  NaN       NaN   NaN          NaN   \n",
       "instrumentalness           NaN       NaN  NaN       NaN   NaN          NaN   \n",
       "liveness                   NaN       NaN  NaN       NaN   NaN          NaN   \n",
       "valence                    NaN       NaN  NaN       NaN   NaN          NaN   \n",
       "tempo                      NaN       NaN  NaN       NaN   NaN          NaN   \n",
       "duration_ms                NaN       NaN  NaN       NaN   NaN          NaN   \n",
       "time_signature             NaN       NaN  NaN       NaN   NaN          NaN   \n",
       "liked                      NaN       NaN  NaN       NaN   NaN          NaN   \n",
       "\n",
       "                  acousticness  instrumentalness  liveness  valence  tempo  \\\n",
       "danceability               NaN               NaN       NaN      NaN    NaN   \n",
       "energy                     NaN               NaN       NaN      NaN    NaN   \n",
       "key                        NaN               NaN       NaN      NaN    NaN   \n",
       "loudness                   NaN               NaN       NaN      NaN    NaN   \n",
       "mode                       NaN               NaN       NaN      NaN    NaN   \n",
       "speechiness                NaN               NaN       NaN      NaN    NaN   \n",
       "acousticness               1.0               NaN       NaN      NaN    NaN   \n",
       "instrumentalness           NaN               1.0       NaN      NaN    NaN   \n",
       "liveness                   NaN               NaN       1.0      NaN    NaN   \n",
       "valence                    NaN               NaN       NaN      1.0    NaN   \n",
       "tempo                      NaN               NaN       NaN      NaN    1.0   \n",
       "duration_ms                NaN               NaN       NaN      NaN    NaN   \n",
       "time_signature             NaN               NaN       NaN      NaN    NaN   \n",
       "liked                      NaN               NaN       NaN      NaN    NaN   \n",
       "\n",
       "                  duration_ms  time_signature  liked  \n",
       "danceability              NaN             NaN    NaN  \n",
       "energy                    NaN             NaN    NaN  \n",
       "key                       NaN             NaN    NaN  \n",
       "loudness                  NaN             NaN    NaN  \n",
       "mode                      NaN             NaN    NaN  \n",
       "speechiness               NaN             NaN    NaN  \n",
       "acousticness              NaN             NaN    NaN  \n",
       "instrumentalness          NaN             NaN    NaN  \n",
       "liveness                  NaN             NaN    NaN  \n",
       "valence                   NaN             NaN    NaN  \n",
       "tempo                     NaN             NaN    NaN  \n",
       "duration_ms               1.0             NaN    NaN  \n",
       "time_signature            NaN             1.0    NaN  \n",
       "liked                     NaN             NaN    1.0  "
      ]
     },
     "execution_count": 109,
     "metadata": {},
     "output_type": "execute_result"
    }
   ],
   "source": [
    "corrGreater = corr[corr>=.8]\n",
    "corrGreater"
   ]
  },
  {
   "cell_type": "markdown",
   "id": "98f337c6",
   "metadata": {},
   "source": [
    "### Observando el mapa de calor y la matriz de correlacion, vemos que hay dos variables muy correlacionadas:\n",
    "\n",
    "### energy <=> loudnes \n",
    "Tienen una valor de correlacion del 0.813567, por lo que estan altamente correlacionadas. Observando las definiciones para cada variable vemos:\n",
    "- energy: Intensity and activity. Typically, energetic tracks feel fast, loud, and noisy\n",
    "- loudness: The overall loudness of a track in decibels (dB)\n",
    "\n",
    "Podemos ver claro que a mayor energy, mayor loudness, por lo que confirmamos que estan altamente correlacionadas.\n",
    "\n",
    "Vemos que tenemos otra correlacion medianamente alta, aunque no supera nuestro umbral de 0.8, pero vamos a estudiarla:\n",
    "\n",
    "### danceability <=> valence \n",
    "Con valor de correlacion 0.612344, podemos pensar que estan correlacionada, Observando las definiciones de las variables tenemos:\n",
    "- danceability: How suitable a track is for dancing\n",
    "- valence: Musical positiveness conveyed by a track\n",
    "Estan bastante correlaccionadas, vemos que si la cancion es positiva, crea un estado de felicidad en la persona, por lo tanto es muy probable que sea una cancion bailable\n",
    "\n",
    "Observamos tambien correlaciones con la variable dependiente pero esas no las analizamos por que son los gustos del autor\n",
    "\n",
    "Realizaremos un estudio de la covarianza para ver si podemos eleminar alguna variable."
   ]
  },
  {
   "cell_type": "markdown",
   "id": "29771b37",
   "metadata": {},
   "source": [
    "## Estudio de la covarianza\n",
    "\n",
    "La covarianza es igual que cero cuando no hay relación existente."
   ]
  },
  {
   "cell_type": "code",
   "execution_count": 113,
   "id": "d585f34f",
   "metadata": {},
   "outputs": [
    {
     "data": {
      "text/plain": [
       "danceability           0.007729\n",
       "energy                 0.067650\n",
       "key                    0.115700\n",
       "loudness               1.380744\n",
       "mode                  -0.008880\n",
       "speechiness            0.003847\n",
       "acousticness          -0.064460\n",
       "instrumentalness      -0.021742\n",
       "liveness               0.004590\n",
       "valence                0.022239\n",
       "tempo                  1.569827\n",
       "duration_ms        -2524.612375\n",
       "time_signature         0.014550\n",
       "liked                  0.022963\n",
       "Name: energy, dtype: float64"
      ]
     },
     "execution_count": 113,
     "metadata": {},
     "output_type": "execute_result"
    }
   ],
   "source": [
    "cov=data.cov()\n",
    "cov['energy'] "
   ]
  },
  {
   "cell_type": "code",
   "execution_count": 114,
   "id": "48ff2d9f",
   "metadata": {},
   "outputs": [
    {
     "data": {
      "text/plain": [
       "danceability           0.046922\n",
       "energy                 0.007729\n",
       "key                   -0.047277\n",
       "loudness               0.643219\n",
       "mode                   0.004738\n",
       "speechiness            0.010136\n",
       "acousticness          -0.016272\n",
       "instrumentalness      -0.060527\n",
       "liveness              -0.003146\n",
       "valence                0.035508\n",
       "tempo                  1.359809\n",
       "duration_ms        -3635.678425\n",
       "time_signature         0.031001\n",
       "liked                  0.061811\n",
       "Name: danceability, dtype: float64"
      ]
     },
     "execution_count": 114,
     "metadata": {},
     "output_type": "execute_result"
    }
   ],
   "source": [
    "cov=data.cov()\n",
    "cov['danceability'] "
   ]
  },
  {
   "cell_type": "markdown",
   "id": "344b75f0",
   "metadata": {},
   "source": [
    "### Analisis de la covarianza\n",
    "energy loudness = 1.380744\n",
    "energy valence = 0.035508\n",
    "\n",
    "Observamos que los valores son cercanos a cero, por lo tanto optamos con NO eliminar ninguna de nuestras variables"
   ]
  },
  {
   "cell_type": "markdown",
   "id": "fd1a5763",
   "metadata": {},
   "source": [
    "## Deteccion y tratamiento de datos ausentes"
   ]
  },
  {
   "cell_type": "code",
   "execution_count": 99,
   "id": "ddfb7337",
   "metadata": {},
   "outputs": [
    {
     "data": {
      "text/plain": [
       "0"
      ]
     },
     "execution_count": 99,
     "metadata": {},
     "output_type": "execute_result"
    }
   ],
   "source": [
    "# check para ver el total de valores nulos en nuestro dataset\n",
    "# observamos que no tenemos valores nulls\n",
    "data.isnull().values.sum()"
   ]
  },
  {
   "cell_type": "code",
   "execution_count": 101,
   "id": "70f007e5",
   "metadata": {},
   "outputs": [
    {
     "data": {
      "text/plain": [
       "danceability        0\n",
       "energy              0\n",
       "key                 0\n",
       "loudness            0\n",
       "mode                0\n",
       "speechiness         0\n",
       "acousticness        0\n",
       "instrumentalness    0\n",
       "liveness            0\n",
       "valence             0\n",
       "tempo               0\n",
       "duration_ms         0\n",
       "time_signature      0\n",
       "liked               0\n",
       "dtype: int64"
      ]
     },
     "execution_count": 101,
     "metadata": {},
     "output_type": "execute_result"
    }
   ],
   "source": [
    "# check para ver el total de valores nulos en cada columna\n",
    "# al igual que antes, vemos que no hay valores nulls por columa\n",
    "data.isnull().sum()"
   ]
  },
  {
   "cell_type": "markdown",
   "id": "72714fa5",
   "metadata": {},
   "source": [
    "#### No tenemos datos nulos por lo que no tenemos que hacer nada al respecto"
   ]
  },
  {
   "cell_type": "markdown",
   "id": "cdf7237b",
   "metadata": {},
   "source": [
    "# Visualizacion del conjunto de datos en 2D"
   ]
  },
  {
   "cell_type": "code",
   "execution_count": 18,
   "id": "73d4d680",
   "metadata": {},
   "outputs": [
    {
     "data": {
      "image/png": "[encoded data removed]",
      "text/plain": [
       "<Figure size 640x480 with 1 Axes>"
      ]
     },
     "metadata": {},
     "output_type": "display_data"
    }
   ],
   "source": [
    "# cogemos pares de datos y representamos datos en dos dimensiones, \n",
    "# tenemos en cuenta la correlacion para elegir los pares de datos\n",
    "# acousticness <=> energy => -0.772583 => correlacion muy baja\n",
    "plt.scatter(data.acousticness, data.energy, c=data.liked);\n",
    "# observamos en la grafica que los datos no son facilmente separables por un hiperplano"
   ]
  },
  {
   "cell_type": "code",
   "execution_count": 116,
   "id": "bcc5692d",
   "metadata": {},
   "outputs": [
    {
     "data": {
      "image/png": "[encoded data removed]",
      "text/plain": [
       "<Figure size 640x480 with 1 Axes>"
      ]
     },
     "metadata": {},
     "output_type": "display_data"
    }
   ],
   "source": [
    "# danceability <=> instrumentalness => -0.807053 => correlacion muy baja\n",
    "plt.scatter(data.danceability, data.instrumentalness, c=data.liked);\n",
    "# observamos en la grafica que los datos no son facilmente separables por un hiperplano"
   ]
  },
  {
   "cell_type": "code",
   "execution_count": 117,
   "id": "cd9a5b58",
   "metadata": {},
   "outputs": [
    {
     "data": {
      "image/png": "[encoded data removed]",
      "text/plain": [
       "<Figure size 640x480 with 1 Axes>"
      ]
     },
     "metadata": {},
     "output_type": "display_data"
    }
   ],
   "source": [
    "# si elegimos alta correlacion y representamos\n",
    "# valence <=> danceability => 0.612344\n",
    "plt.scatter(data.danceability, data.valence, c=data.liked);\n",
    "# observamos en la grafica que los datos no son facilmente separables por un hiperplano"
   ]
  },
  {
   "cell_type": "markdown",
   "id": "16e420b0",
   "metadata": {},
   "source": [
    "#### Hemos observado que representando nuestras variables en 2D, no son facilmente separables por un hiperplano, por lo que vamos a aplicar maquinas de vector de soporte"
   ]
  },
  {
   "cell_type": "markdown",
   "id": "bfaf9aa0",
   "metadata": {},
   "source": [
    "# Maquinas de vector de soporte (SVM)\n",
    "El algoritmo despues de haber sido entrenado, podra predecir si una cancion aleatoria/nueva le gusta al autor o no.\n",
    "#### Analizaremos el kernel lineal y el kernel radial con diferentes valores de C y gamma\n"
   ]
  },
  {
   "cell_type": "code",
   "execution_count": 128,
   "id": "fc413a9b",
   "metadata": {},
   "outputs": [],
   "source": [
    "# División de los datos en train y test\n",
    "# ==============================================================================\n",
    "X = data.drop(columns = 'liked')\n",
    "y = data['liked']\n",
    "X_train, X_test, y_train, y_test = train_test_split(X, y, train_size = 0.8, random_state = 42, shuffle = True)"
   ]
  },
  {
   "cell_type": "code",
   "execution_count": 157,
   "id": "43482d56",
   "metadata": {},
   "outputs": [],
   "source": [
    "# Creamos funciones genericas que nos serviran para el posterior analisis del algoritmo\n",
    "# =====================================================================================\n",
    "\n",
    "# entrenamiento del modelo, prediccion de resultados y reporte metrico \n",
    "def fitting(X_train, X_test, y_train, y_test, kernel, C, gamma):    \n",
    "    # create the model\n",
    "    model = SVC(C = C, kernel = kernel, random_state = 42, gamma = gamma)\n",
    "    \n",
    "    # fit the model, entrenamos al modelo con nuestros datos de entrenamiento y predecinos con nuestros datos de test\n",
    "    model.fit(X_train, y_train)  \n",
    "\n",
    "    # Predict class labels on training data\n",
    "    prediction_train = model.predict(X_train)\n",
    "    # Predict class labels on a test data\n",
    "    predicion_test = model.predict(X_test)\n",
    "    \n",
    "    print('----- Evaluation on Test Data -----')\n",
    "    score_test_data = model.score(X_test, y_test)\n",
    "    print('Accuracy Score: ', score_test_data)\n",
    "    # Look at classification report to evaluate the model\n",
    "    print(classification_report(y_test, predicion_test))\n",
    "    print('--------------------------------------------------------')\n",
    "\n",
    "    print('----- Evaluation on Training Data -----')\n",
    "    score_train = model.score(X_train, y_train)\n",
    "    print('Accuracy Score: ', score_train)\n",
    "    # Look at classification report to evaluate the model\n",
    "    print(classification_report(y_train, prediction_train))\n",
    "    print('--------------------------------------------------------')\n",
    "    \n",
    "    return model"
   ]
  },
  {
   "cell_type": "markdown",
   "id": "296e5741",
   "metadata": {},
   "source": [
    "## Estudio del modelo SVM lineal con diferences valores de C"
   ]
  },
  {
   "cell_type": "code",
   "execution_count": 151,
   "id": "ada70896",
   "metadata": {},
   "outputs": [
    {
     "name": "stdout",
     "output_type": "stream",
     "text": [
      "----- Evaluation on Test Data -----\n",
      "Accuracy Score:  0.8205128205128205\n",
      "              precision    recall  f1-score   support\n",
      "\n",
      "           0       0.73      1.00      0.84        19\n",
      "           1       1.00      0.65      0.79        20\n",
      "\n",
      "    accuracy                           0.82        39\n",
      "   macro avg       0.87      0.82      0.82        39\n",
      "weighted avg       0.87      0.82      0.82        39\n",
      "\n",
      "--------------------------------------------------------\n",
      "----- Evaluation on Training Data -----\n",
      "Accuracy Score:  0.7371794871794872\n",
      "              precision    recall  f1-score   support\n",
      "\n",
      "           0       0.70      0.80      0.75        76\n",
      "           1       0.78      0.68      0.72        80\n",
      "\n",
      "    accuracy                           0.74       156\n",
      "   macro avg       0.74      0.74      0.74       156\n",
      "weighted avg       0.74      0.74      0.74       156\n",
      "\n",
      "--------------------------------------------------------\n"
     ]
    }
   ],
   "source": [
    "# Evaluacion del modelo SVM lineal con C = 100 y gamma scale\n",
    "# ==============================================================================\n",
    "model = fitting(X_train, X_test, y_train, y_test, 'linear', 100, 'scale')"
   ]
  },
  {
   "cell_type": "code",
   "execution_count": 131,
   "id": "863fe5f3",
   "metadata": {},
   "outputs": [
    {
     "name": "stdout",
     "output_type": "stream",
     "text": [
      "----- Evaluation on Test Data -----\n",
      "Accuracy Score:  0.8461538461538461\n",
      "              precision    recall  f1-score   support\n",
      "\n",
      "           0       0.81      0.89      0.85        19\n",
      "           1       0.89      0.80      0.84        20\n",
      "\n",
      "    accuracy                           0.85        39\n",
      "   macro avg       0.85      0.85      0.85        39\n",
      "weighted avg       0.85      0.85      0.85        39\n",
      "\n",
      "--------------------------------------------------------\n",
      "----- Evaluation on Training Data -----\n",
      "Accuracy Score:  0.7884615384615384\n",
      "              precision    recall  f1-score   support\n",
      "\n",
      "           0       0.79      0.78      0.78        76\n",
      "           1       0.79      0.80      0.80        80\n",
      "\n",
      "    accuracy                           0.79       156\n",
      "   macro avg       0.79      0.79      0.79       156\n",
      "weighted avg       0.79      0.79      0.79       156\n",
      "\n",
      "--------------------------------------------------------\n"
     ]
    }
   ],
   "source": [
    "# Evaluacion del modelo SVM lineal con C = 1 y gamma scale\n",
    "# ==============================================================================\n",
    "fitting(X_train, X_test, y_train, y_test, 'linear', 1, 'scale')"
   ]
  },
  {
   "cell_type": "code",
   "execution_count": 132,
   "id": "08742bae",
   "metadata": {},
   "outputs": [
    {
     "name": "stdout",
     "output_type": "stream",
     "text": [
      "----- Evaluation on Test Data -----\n",
      "Accuracy Score:  0.8205128205128205\n",
      "              precision    recall  f1-score   support\n",
      "\n",
      "           0       0.77      0.89      0.83        19\n",
      "           1       0.88      0.75      0.81        20\n",
      "\n",
      "    accuracy                           0.82        39\n",
      "   macro avg       0.83      0.82      0.82        39\n",
      "weighted avg       0.83      0.82      0.82        39\n",
      "\n",
      "--------------------------------------------------------\n",
      "----- Evaluation on Training Data -----\n",
      "Accuracy Score:  0.7628205128205128\n",
      "              precision    recall  f1-score   support\n",
      "\n",
      "           0       0.79      0.70      0.74        76\n",
      "           1       0.74      0.82      0.78        80\n",
      "\n",
      "    accuracy                           0.76       156\n",
      "   macro avg       0.77      0.76      0.76       156\n",
      "weighted avg       0.77      0.76      0.76       156\n",
      "\n",
      "--------------------------------------------------------\n"
     ]
    }
   ],
   "source": [
    "# Evaluacion del modelo SVM lineal con C = 0.0001 y gamma scale\n",
    "# ==============================================================================\n",
    "fitting(X_train, X_test, y_train, y_test, 'linear', 0.0001, 'scale')"
   ]
  },
  {
   "cell_type": "markdown",
   "id": "f8554dfb",
   "metadata": {},
   "source": [
    "### Analisis de los resultados para C = 100, C = 1 y C = 0.001, y gamma = scale\n",
    "Observamos que para C = 100 el sistema tiene un Accuracy Score: 0.8205128205128205 con los datos de test, para valores de C = 1 o c = 0.001, obtenemos peores resultados en precision. Por lo que podemos decir que el valor de C = 100 es el que trabaja mejor para SVM kernel lineal"
   ]
  },
  {
   "cell_type": "markdown",
   "id": "da865e77",
   "metadata": {},
   "source": [
    "## Estudio del modelo SVM lineal con C = 100 y diferentes valores de gamma\n"
   ]
  },
  {
   "cell_type": "code",
   "execution_count": 134,
   "id": "3b86b4c2",
   "metadata": {},
   "outputs": [
    {
     "name": "stdout",
     "output_type": "stream",
     "text": [
      "----- Evaluation on Test Data -----\n",
      "Accuracy Score:  0.8205128205128205\n",
      "              precision    recall  f1-score   support\n",
      "\n",
      "           0       0.73      1.00      0.84        19\n",
      "           1       1.00      0.65      0.79        20\n",
      "\n",
      "    accuracy                           0.82        39\n",
      "   macro avg       0.87      0.82      0.82        39\n",
      "weighted avg       0.87      0.82      0.82        39\n",
      "\n",
      "--------------------------------------------------------\n",
      "----- Evaluation on Training Data -----\n",
      "Accuracy Score:  0.7371794871794872\n",
      "              precision    recall  f1-score   support\n",
      "\n",
      "           0       0.70      0.80      0.75        76\n",
      "           1       0.78      0.68      0.72        80\n",
      "\n",
      "    accuracy                           0.74       156\n",
      "   macro avg       0.74      0.74      0.74       156\n",
      "weighted avg       0.74      0.74      0.74       156\n",
      "\n",
      "--------------------------------------------------------\n"
     ]
    }
   ],
   "source": [
    "# Evaluacion del modelo SVM lineal con C = 100 y gamma = 100\n",
    "# ==============================================================================\n",
    "fitting(X_train, X_test, y_train, y_test, 'linear', 100, 100)"
   ]
  },
  {
   "cell_type": "code",
   "execution_count": 135,
   "id": "ca4d11fd",
   "metadata": {},
   "outputs": [
    {
     "name": "stdout",
     "output_type": "stream",
     "text": [
      "----- Evaluation on Test Data -----\n",
      "Accuracy Score:  0.8205128205128205\n",
      "              precision    recall  f1-score   support\n",
      "\n",
      "           0       0.73      1.00      0.84        19\n",
      "           1       1.00      0.65      0.79        20\n",
      "\n",
      "    accuracy                           0.82        39\n",
      "   macro avg       0.87      0.82      0.82        39\n",
      "weighted avg       0.87      0.82      0.82        39\n",
      "\n",
      "--------------------------------------------------------\n",
      "----- Evaluation on Training Data -----\n",
      "Accuracy Score:  0.7371794871794872\n",
      "              precision    recall  f1-score   support\n",
      "\n",
      "           0       0.70      0.80      0.75        76\n",
      "           1       0.78      0.68      0.72        80\n",
      "\n",
      "    accuracy                           0.74       156\n",
      "   macro avg       0.74      0.74      0.74       156\n",
      "weighted avg       0.74      0.74      0.74       156\n",
      "\n",
      "--------------------------------------------------------\n"
     ]
    }
   ],
   "source": [
    "# Evaluacion del modelo SVM lineal con C = 100 y gamma = 1\n",
    "# ==============================================================================\n",
    "fitting(X_train, X_test, y_train, y_test, 'linear', 100, 1)"
   ]
  },
  {
   "cell_type": "code",
   "execution_count": 136,
   "id": "64e53ae6",
   "metadata": {},
   "outputs": [
    {
     "name": "stdout",
     "output_type": "stream",
     "text": [
      "----- Evaluation on Test Data -----\n",
      "Accuracy Score:  0.8205128205128205\n",
      "              precision    recall  f1-score   support\n",
      "\n",
      "           0       0.73      1.00      0.84        19\n",
      "           1       1.00      0.65      0.79        20\n",
      "\n",
      "    accuracy                           0.82        39\n",
      "   macro avg       0.87      0.82      0.82        39\n",
      "weighted avg       0.87      0.82      0.82        39\n",
      "\n",
      "--------------------------------------------------------\n",
      "----- Evaluation on Training Data -----\n",
      "Accuracy Score:  0.7371794871794872\n",
      "              precision    recall  f1-score   support\n",
      "\n",
      "           0       0.70      0.80      0.75        76\n",
      "           1       0.78      0.68      0.72        80\n",
      "\n",
      "    accuracy                           0.74       156\n",
      "   macro avg       0.74      0.74      0.74       156\n",
      "weighted avg       0.74      0.74      0.74       156\n",
      "\n",
      "--------------------------------------------------------\n"
     ]
    }
   ],
   "source": [
    "# Evaluacion del modelo SVM lineal con C = 100 y gamma = 0.000001\n",
    "# ==============================================================================\n",
    "fitting(X_train, X_test, y_train, y_test, 'linear', 100, 0.000001)"
   ]
  },
  {
   "cell_type": "markdown",
   "id": "74c475b5",
   "metadata": {},
   "source": [
    "### Analisis de los resultados para C = 100 y gamma = 100, 1, 0.000001\n",
    "Observamos que la eleccion de un gamma diferente no influye en nuestro algoritmo de SVM con kernel lineal. Por lo que podemos nos podemos quedar con valor de C = 100 y gamma scales para nuestro algoritmo."
   ]
  },
  {
   "cell_type": "markdown",
   "id": "005fc67c",
   "metadata": {},
   "source": [
    "## Estudio del modelo SVM radial con diferences valores de C"
   ]
  },
  {
   "cell_type": "code",
   "execution_count": null,
   "id": "e12dd954",
   "metadata": {},
   "outputs": [],
   "source": []
  },
  {
   "cell_type": "code",
   "execution_count": 84,
   "id": "37405801",
   "metadata": {},
   "outputs": [
    {
     "data": {
      "text/html": [
       "<div>\n",
       "<style scoped>\n",
       "    .dataframe tbody tr th:only-of-type {\n",
       "        vertical-align: middle;\n",
       "    }\n",
       "\n",
       "    .dataframe tbody tr th {\n",
       "        vertical-align: top;\n",
       "    }\n",
       "\n",
       "    .dataframe thead th {\n",
       "        text-align: right;\n",
       "    }\n",
       "</style>\n",
       "<table border=\"1\" class=\"dataframe\">\n",
       "  <thead>\n",
       "    <tr style=\"text-align: right;\">\n",
       "      <th></th>\n",
       "      <th>param_C</th>\n",
       "      <th>mean_test_score</th>\n",
       "      <th>std_test_score</th>\n",
       "      <th>mean_train_score</th>\n",
       "      <th>std_train_score</th>\n",
       "    </tr>\n",
       "  </thead>\n",
       "  <tbody>\n",
       "    <tr>\n",
       "      <th>11</th>\n",
       "      <td>88.586679</td>\n",
       "      <td>0.743590</td>\n",
       "      <td>0.036262</td>\n",
       "      <td>0.762821</td>\n",
       "      <td>0.019758</td>\n",
       "    </tr>\n",
       "    <tr>\n",
       "      <th>12</th>\n",
       "      <td>379.269019</td>\n",
       "      <td>0.743590</td>\n",
       "      <td>0.039515</td>\n",
       "      <td>0.753205</td>\n",
       "      <td>0.025237</td>\n",
       "    </tr>\n",
       "    <tr>\n",
       "      <th>10</th>\n",
       "      <td>20.691381</td>\n",
       "      <td>0.737179</td>\n",
       "      <td>0.045327</td>\n",
       "      <td>0.756410</td>\n",
       "      <td>0.016343</td>\n",
       "    </tr>\n",
       "    <tr>\n",
       "      <th>15</th>\n",
       "      <td>29763.514416</td>\n",
       "      <td>0.737179</td>\n",
       "      <td>0.032686</td>\n",
       "      <td>0.766026</td>\n",
       "      <td>0.016343</td>\n",
       "    </tr>\n",
       "    <tr>\n",
       "      <th>14</th>\n",
       "      <td>6951.927962</td>\n",
       "      <td>0.737179</td>\n",
       "      <td>0.047970</td>\n",
       "      <td>0.753205</td>\n",
       "      <td>0.018131</td>\n",
       "    </tr>\n",
       "  </tbody>\n",
       "</table>\n",
       "</div>"
      ],
      "text/plain": [
       "         param_C  mean_test_score  std_test_score  mean_train_score  \\\n",
       "11     88.586679         0.743590        0.036262          0.762821   \n",
       "12    379.269019         0.743590        0.039515          0.753205   \n",
       "10     20.691381         0.737179        0.045327          0.756410   \n",
       "15  29763.514416         0.737179        0.032686          0.766026   \n",
       "14   6951.927962         0.737179        0.047970          0.753205   \n",
       "\n",
       "    std_train_score  \n",
       "11         0.019758  \n",
       "12         0.025237  \n",
       "10         0.016343  \n",
       "15         0.016343  \n",
       "14         0.018131  "
      ]
     },
     "execution_count": 84,
     "metadata": {},
     "output_type": "execute_result"
    }
   ],
   "source": [
    "# kernel radial RBF\n",
    "# Grid de hiperparámetros\n",
    "# ==============================================================================\n",
    "param_grid = {'C': np.logspace(-5, 7, 20)} #Devuelve números espaciados uniformemente en una escala logaritmica\n",
    "\n",
    "# Búsqueda por validación cruzada\n",
    "# ==============================================================================\n",
    "grid = GridSearchCV(\n",
    "        estimator  = SVC(kernel= \"rbf\", gamma='scale', random_state=42),\n",
    "        param_grid = param_grid,\n",
    "        scoring    = 'accuracy',\n",
    "        n_jobs     = -1,\n",
    "        cv         = 3, \n",
    "        verbose    = 0,\n",
    "        return_train_score = True\n",
    "      )\n",
    "\n",
    "# Se asigna el resultado a _ para que no se imprima por pantalla\n",
    "_ = grid.fit(X = X_train, y = y_train)\n",
    "\n",
    "# Resultados del grid\n",
    "# ==============================================================================\n",
    "resultados = pd.DataFrame(grid.cv_results_)\n",
    "resultados.filter(regex = '(param.*|mean_t|std_t)')\\\n",
    "    .drop(columns = 'params')\\\n",
    "    .sort_values('mean_test_score', ascending = False) \\\n",
    "    .head(5)"
   ]
  },
  {
   "cell_type": "code",
   "execution_count": 85,
   "id": "f25465bf",
   "metadata": {},
   "outputs": [
    {
     "name": "stdout",
     "output_type": "stream",
     "text": [
      "----------------------------------------\n",
      "Mejores hiperparámetros encontrados (cv)\n",
      "----------------------------------------\n",
      "{'C': 88.58667904100814} : 0.7435897435897436 accuracy\n"
     ]
    }
   ],
   "source": [
    "# Mejores hiperparámetros por validación cruzada\n",
    "# ==============================================================================\n",
    "print(\"----------------------------------------\")\n",
    "print(\"Mejores hiperparámetros encontrados (cv)\")\n",
    "print(\"----------------------------------------\")\n",
    "print(grid.best_params_, \":\", grid.best_score_, grid.scoring)\n",
    "\n",
    "model = grid.best_estimator_"
   ]
  },
  {
   "cell_type": "code",
   "execution_count": 86,
   "id": "6fd94ee0",
   "metadata": {},
   "outputs": [],
   "source": [
    "# Predicciones test\n",
    "# ==============================================================================\n",
    "predicciones = model.predict(X_test)"
   ]
  },
  {
   "cell_type": "code",
   "execution_count": 87,
   "id": "2c731d03",
   "metadata": {},
   "outputs": [
    {
     "name": "stdout",
     "output_type": "stream",
     "text": [
      "\n",
      "El accuracy de test es: 87.17948717948718%\n"
     ]
    }
   ],
   "source": [
    "# Accuracy de test del modelo \n",
    "# ==============================================================================\n",
    "accuracy = accuracy_score(\n",
    "            y_true    = y_test,\n",
    "            y_pred    = predicciones,\n",
    "            normalize = True\n",
    "           )\n",
    "print(\"\")\n",
    "print(f\"El accuracy de test es: {100*accuracy}%\")"
   ]
  },
  {
   "cell_type": "code",
   "execution_count": 88,
   "id": "388a11ff",
   "metadata": {},
   "outputs": [
    {
     "data": {
      "text/plain": [
       "SVC(C=1, probability=True, random_state=42)"
      ]
     },
     "execution_count": 88,
     "metadata": {},
     "output_type": "execute_result"
    }
   ],
   "source": [
    "# trying different values of C => para C mas bajo baja en accurancy, vemos que el encontrado es mejor\n",
    "model = SVC(kernel='rbf', probability=True, C=1, gamma='scale', random_state=42)\n",
    "model.fit(X_train, y_train)"
   ]
  },
  {
   "cell_type": "code",
   "execution_count": 89,
   "id": "31b555b0",
   "metadata": {},
   "outputs": [],
   "source": [
    "predicciones = model.predict(X_test)"
   ]
  },
  {
   "cell_type": "code",
   "execution_count": 90,
   "id": "92f65d1a",
   "metadata": {},
   "outputs": [
    {
     "name": "stdout",
     "output_type": "stream",
     "text": [
      "\n",
      "El accuracy de test es: 84.61538461538461%\n"
     ]
    }
   ],
   "source": [
    "accuracy = accuracy_score(\n",
    "            y_true    = y_test,\n",
    "            y_pred    = predicciones,\n",
    "            normalize = True\n",
    "           )\n",
    "print(\"\")\n",
    "print(f\"El accuracy de test es: {100*accuracy}%\")"
   ]
  },
  {
   "cell_type": "code",
   "execution_count": 91,
   "id": "cf5f92ce",
   "metadata": {},
   "outputs": [
    {
     "data": {
      "text/plain": [
       "SVC(C=88.58667904100814, gamma=100, probability=True, random_state=42)"
      ]
     },
     "execution_count": 91,
     "metadata": {},
     "output_type": "execute_result"
    }
   ],
   "source": [
    "# trying different values of gamma => para valores altos de gamma el accurency es peor\n",
    "model = SVC(kernel='rbf', probability=True, C=88.58667904100814, gamma=100, random_state=42)\n",
    "model.fit(X_train, y_train)"
   ]
  },
  {
   "cell_type": "code",
   "execution_count": 92,
   "id": "ffc98a32",
   "metadata": {},
   "outputs": [
    {
     "name": "stdout",
     "output_type": "stream",
     "text": [
      "\n",
      "El accuracy de test es: 51.28205128205128%\n"
     ]
    }
   ],
   "source": [
    "predicciones = model.predict(X_test)\n",
    "accuracy = accuracy_score(\n",
    "            y_true    = y_test,\n",
    "            y_pred    = predicciones,\n",
    "            normalize = True\n",
    "           )\n",
    "print(\"\")\n",
    "print(f\"El accuracy de test es: {100*accuracy}%\")"
   ]
  },
  {
   "cell_type": "code",
   "execution_count": 95,
   "id": "2d03ba20",
   "metadata": {},
   "outputs": [
    {
     "data": {
      "text/plain": [
       "SVC(C=88.58667904100814, gamma=1e-11, probability=True, random_state=42)"
      ]
     },
     "execution_count": 95,
     "metadata": {},
     "output_type": "execute_result"
    }
   ],
   "source": [
    "# trying different values of gamma => para valores bajos de gamma el accurency es mejor\n",
    "model = SVC(kernel='rbf', probability=True, C=88.58667904100814, gamma=0.00000000001, random_state=42)\n",
    "model.fit(X_train, y_train)"
   ]
  },
  {
   "cell_type": "code",
   "execution_count": 96,
   "id": "054c3d6c",
   "metadata": {},
   "outputs": [
    {
     "name": "stdout",
     "output_type": "stream",
     "text": [
      "\n",
      "El accuracy de test es: 84.61538461538461%\n"
     ]
    }
   ],
   "source": [
    "predicciones = model.predict(X_test)\n",
    "accuracy = accuracy_score(\n",
    "            y_true    = y_test,\n",
    "            y_pred    = predicciones,\n",
    "            normalize = True\n",
    "           )\n",
    "print(\"\")\n",
    "print(f\"El accuracy de test es: {100*accuracy}%\")"
   ]
  }
 ],
 "metadata": {
  "kernelspec": {
   "display_name": "Python 3 (ipykernel)",
   "language": "python",
   "name": "python3"
  },
  "language_info": {
   "codemirror_mode": {
    "name": "ipython",
    "version": 3
   },
   "file_extension": ".py",
   "mimetype": "text/x-python",
   "name": "python",
   "nbconvert_exporter": "python",
   "pygments_lexer": "ipython3",
   "version": "3.9.13"
  }
 },
 "nbformat": 4,
 "nbformat_minor": 5
}
